{
  "nbformat": 4,
  "nbformat_minor": 0,
  "metadata": {
    "colab": {
      "provenance": [],
      "authorship_tag": "ABX9TyOMmBxQHfQzou+z85DkeBmb",
      "include_colab_link": true
    },
    "kernelspec": {
      "name": "python3",
      "display_name": "Python 3"
    },
    "language_info": {
      "name": "python"
    }
  },
  "cells": [
    {
      "cell_type": "markdown",
      "metadata": {
        "id": "view-in-github",
        "colab_type": "text"
      },
      "source": [
        "<a href=\"https://colab.research.google.com/github/Sujana0710/cartoonModeration/blob/main/Anime.ipynb\" target=\"_parent\"><img src=\"https://colab.research.google.com/assets/colab-badge.svg\" alt=\"Open In Colab\"/></a>"
      ]
    },
    {
      "cell_type": "code",
      "source": [
        "from tensorflow.keras.models import load_model\n",
        "import cv2\n",
        "import numpy as np\n",
        "from keras.preprocessing import image\n",
        "import os\n",
        "import tensorflow as tf"
      ],
      "metadata": {
        "id": "x4CY9J7NcuJS"
      },
      "execution_count": null,
      "outputs": []
    },
    {
      "cell_type": "code",
      "execution_count": null,
      "metadata": {
        "id": "Snp8BvkWaBto"
      },
      "outputs": [],
      "source": [
        "# Data Preparation\n",
        "\n",
        "# Data Preparation\n",
        "\n",
        "from tensorflow.keras.preprocessing.image import ImageDataGenerator\n",
        "\n",
        "# Data Augmentation\n",
        "datagen = ImageDataGenerator(\n",
        "    rescale=1.0 / 255,\n",
        "    shear_range=0.2,\n",
        "    zoom_range=0.2,\n",
        "    horizontal_flip=True,\n",
        "    validation_split=0.13\n",
        ")\n",
        "\n",
        "# Training Data Generator\n",
        "train_generator = datagen.flow_from_directory(\n",
        "    'Dataset1/train1',\n",
        "    target_size=(256, 256),\n",
        "    batch_size=32,\n",
        "    class_mode='categorical',\n",
        "    subset='training'  # set as training data\n",
        ")\n",
        "\n",
        "# Validation Data Generator\n",
        "validation_generator = datagen.flow_from_directory(\n",
        "    'Dataset1/train1',\n",
        "    target_size=(256, 256),\n",
        "    batch_size=32,\n",
        "    class_mode='categorical',\n",
        "    subset='validation'  # set as validation data\n",
        ")\n",
        "\n"
      ]
    },
    {
      "cell_type": "code",
      "source": [
        "# Model Building\n",
        "\n",
        "#The below code depicts the building of Proposed-3 Custom model\n",
        "from tensorflow.keras.models import Sequential\n",
        "from tensorflow.keras.layers import Conv2D, MaxPooling2D\n",
        "from tensorflow.keras.layers import Activation, Dropout, Flatten, Dense\n",
        "from tensorflow.keras.callbacks import ModelCheckpoint\n",
        "\n",
        "# Model Checkpoint\n",
        "checkpoint = ModelCheckpoint(\n",
        "    'Custom.h5',\n",
        "    monitor='val_accuracy',\n",
        "    verbose=1,\n",
        "    save_best_only=True,\n",
        "    mode='auto',\n",
        "    save_weights_only=True\n",
        ")\n",
        "# CNN Model Architecture\n",
        "model = Sequential()\n",
        "# Convolutional Layers\n",
        "model.add(Conv2D(64, (3, 3), input_shape=(256, 256, 3)))\n",
        "model.add(Activation('relu'))\n",
        "model.add(MaxPooling2D(pool_size=(2, 2)))\n",
        "\n",
        "model.add(Conv2D(128, (3, 3)))\n",
        "model.add(Activation('relu'))\n",
        "model.add(MaxPooling2D(pool_size=(2, 2)))\n",
        "\n",
        "model.add(Conv2D(256, (3, 3)))\n",
        "model.add(Activation('relu'))\n",
        "model.add(MaxPooling2D(pool_size=(2, 2)))\n",
        "\n",
        "model.add(Conv2D(512, (3, 3)))\n",
        "model.add(Activation('relu'))\n",
        "model.add(MaxPooling2D(pool_size=(2, 2)))\n",
        "\n",
        "# Fully Connected Layers\n",
        "model.add(Flatten())\n",
        "model.add(Dense(512))\n",
        "model.add(Activation('relu'))\n",
        "model.add(Dropout(0.5))\n",
        "model.add(Dense(3))  # Assuming 3 classes: normal, violence, adultery\n",
        "model.add(Activation('softmax'))\n",
        "\n"
      ],
      "metadata": {
        "id": "qiy0YdQidiLe"
      },
      "execution_count": null,
      "outputs": []
    },
    {
      "cell_type": "code",
      "source": [
        "# Compile the model\n",
        "model.compile(optimizer='adam’,loss='categorical_crossentropy', metrics=['accuracy', f1_score])\n",
        "\n",
        "# Train the Model\n",
        "history = model.fit(\n",
        "    train_generator,\n",
        "    steps_per_epoch=len(train_generator),\n",
        "    epochs=50,\n",
        "    validation_data=validation_generator,\n",
        "    validation_steps=len(validation_generator),\n",
        "    callbacks=[checkpoint]\n",
        ")\n"
      ],
      "metadata": {
        "id": "7ou4YNDkdz05"
      },
      "execution_count": null,
      "outputs": []
    },
    {
      "cell_type": "code",
      "source": [
        "# Calculate percentages\n",
        "if total_frames == 0:\n",
        "    result = \"None\"\n",
        "else:\n",
        "    normal_percentage = (normal_count / total_frames) * 100\n",
        "    violence_percentage = (violence_count / total_frames) * 100\n",
        "    adultery_percentage = (adultery_count / total_frames) * 100\n",
        "    result = f\"Normal: {normal_percentage:.2f}%, Violence: {violence_percentage:.2f}%, Adultery: {adultery_percentage:.2f}%\"\n",
        "\n",
        "# Print or use the result as needed\n",
        "print(result)\n",
        "print(\"Total Frames: \",total_frames)\n"
      ],
      "metadata": {
        "id": "hvkrwf4pa-DD"
      },
      "execution_count": null,
      "outputs": []
    }
  ]
}